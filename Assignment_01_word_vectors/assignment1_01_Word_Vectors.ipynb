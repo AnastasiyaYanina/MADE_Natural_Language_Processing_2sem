{
  "cells": [
    {
      "cell_type": "markdown",
      "metadata": {
        "id": "-kU44NI6Cj4G"
      },
      "source": [
        "## Assignment 01. Simple text processing."
      ]
    },
    {
      "cell_type": "code",
      "execution_count": 1,
      "metadata": {
        "id": "cSGLqFrsCj4V"
      },
      "outputs": [],
      "source": [
        "import numpy as np\n",
        "import matplotlib.pyplot as plt\n",
        "%matplotlib inline\n",
        "import pandas as pd\n",
        "from IPython import display"
      ]
    },
    {
      "cell_type": "markdown",
      "metadata": {
        "id": "QZln5tlmCj4Z"
      },
      "source": [
        "### Toxic or not\n",
        "Your main goal in this assignment is to classify, whether the comments are toxic or not. And practice with both classical approaches and PyTorch in the process.\n",
        "\n",
        "*Credits: This homework is inspired by YSDA NLP_course.*"
      ]
    },
    {
      "cell_type": "code",
      "execution_count": 2,
      "metadata": {
        "id": "OidD8qMkCj4e"
      },
      "outputs": [],
      "source": [
        "try:\n",
        "    data = pd.read_csv('https://raw.githubusercontent.com/girafe-ai/ml-mipt/master/datasets/comments_small_dataset/comments.tsv', sep='\\t')\n",
        "except FileNotFoundError:\n",
        "    ! wget https://raw.githubusercontent.com/girafe-ai/ml-mipt/advanced_s21/datasets/comments_small_dataset/comments.tsv -nc\n",
        "    data = pd.read_csv(\"comments.tsv\", sep='\\t')"
      ]
    },
    {
      "cell_type": "code",
      "execution_count": 3,
      "metadata": {
        "id": "laTFjn-lCj4g",
        "colab": {
          "base_uri": "https://localhost:8080/",
          "height": 206
        },
        "outputId": "29052b61-5e18-480d-ce8c-8702ccbe02d1"
      },
      "outputs": [
        {
          "output_type": "execute_result",
          "data": {
            "text/plain": [
              "     should_ban                                       comment_text\n",
              "50            0  \"Those who're in advantageous positions are th...\n",
              "250           1          Fartsalot56 says f**k you motherclucker!!\n",
              "450           1  Are you a fool? \\n\\nI am sorry, but you seem t...\n",
              "650           1    I AM NOT A VANDAL!!!!!!!!!!!!!!!!!!!!!!!!!!!!!!\n",
              "850           0  Citing sources\\n\\nCheck out the Wikipedia:Citi..."
            ],
            "text/html": [
              "\n",
              "  <div id=\"df-b3c2f41b-8fe0-475a-ae9c-b72a28929aab\">\n",
              "    <div class=\"colab-df-container\">\n",
              "      <div>\n",
              "<style scoped>\n",
              "    .dataframe tbody tr th:only-of-type {\n",
              "        vertical-align: middle;\n",
              "    }\n",
              "\n",
              "    .dataframe tbody tr th {\n",
              "        vertical-align: top;\n",
              "    }\n",
              "\n",
              "    .dataframe thead th {\n",
              "        text-align: right;\n",
              "    }\n",
              "</style>\n",
              "<table border=\"1\" class=\"dataframe\">\n",
              "  <thead>\n",
              "    <tr style=\"text-align: right;\">\n",
              "      <th></th>\n",
              "      <th>should_ban</th>\n",
              "      <th>comment_text</th>\n",
              "    </tr>\n",
              "  </thead>\n",
              "  <tbody>\n",
              "    <tr>\n",
              "      <th>50</th>\n",
              "      <td>0</td>\n",
              "      <td>\"Those who're in advantageous positions are th...</td>\n",
              "    </tr>\n",
              "    <tr>\n",
              "      <th>250</th>\n",
              "      <td>1</td>\n",
              "      <td>Fartsalot56 says f**k you motherclucker!!</td>\n",
              "    </tr>\n",
              "    <tr>\n",
              "      <th>450</th>\n",
              "      <td>1</td>\n",
              "      <td>Are you a fool? \\n\\nI am sorry, but you seem t...</td>\n",
              "    </tr>\n",
              "    <tr>\n",
              "      <th>650</th>\n",
              "      <td>1</td>\n",
              "      <td>I AM NOT A VANDAL!!!!!!!!!!!!!!!!!!!!!!!!!!!!!!</td>\n",
              "    </tr>\n",
              "    <tr>\n",
              "      <th>850</th>\n",
              "      <td>0</td>\n",
              "      <td>Citing sources\\n\\nCheck out the Wikipedia:Citi...</td>\n",
              "    </tr>\n",
              "  </tbody>\n",
              "</table>\n",
              "</div>\n",
              "      <button class=\"colab-df-convert\" onclick=\"convertToInteractive('df-b3c2f41b-8fe0-475a-ae9c-b72a28929aab')\"\n",
              "              title=\"Convert this dataframe to an interactive table.\"\n",
              "              style=\"display:none;\">\n",
              "        \n",
              "  <svg xmlns=\"http://www.w3.org/2000/svg\" height=\"24px\"viewBox=\"0 0 24 24\"\n",
              "       width=\"24px\">\n",
              "    <path d=\"M0 0h24v24H0V0z\" fill=\"none\"/>\n",
              "    <path d=\"M18.56 5.44l.94 2.06.94-2.06 2.06-.94-2.06-.94-.94-2.06-.94 2.06-2.06.94zm-11 1L8.5 8.5l.94-2.06 2.06-.94-2.06-.94L8.5 2.5l-.94 2.06-2.06.94zm10 10l.94 2.06.94-2.06 2.06-.94-2.06-.94-.94-2.06-.94 2.06-2.06.94z\"/><path d=\"M17.41 7.96l-1.37-1.37c-.4-.4-.92-.59-1.43-.59-.52 0-1.04.2-1.43.59L10.3 9.45l-7.72 7.72c-.78.78-.78 2.05 0 2.83L4 21.41c.39.39.9.59 1.41.59.51 0 1.02-.2 1.41-.59l7.78-7.78 2.81-2.81c.8-.78.8-2.07 0-2.86zM5.41 20L4 18.59l7.72-7.72 1.47 1.35L5.41 20z\"/>\n",
              "  </svg>\n",
              "      </button>\n",
              "      \n",
              "  <style>\n",
              "    .colab-df-container {\n",
              "      display:flex;\n",
              "      flex-wrap:wrap;\n",
              "      gap: 12px;\n",
              "    }\n",
              "\n",
              "    .colab-df-convert {\n",
              "      background-color: #E8F0FE;\n",
              "      border: none;\n",
              "      border-radius: 50%;\n",
              "      cursor: pointer;\n",
              "      display: none;\n",
              "      fill: #1967D2;\n",
              "      height: 32px;\n",
              "      padding: 0 0 0 0;\n",
              "      width: 32px;\n",
              "    }\n",
              "\n",
              "    .colab-df-convert:hover {\n",
              "      background-color: #E2EBFA;\n",
              "      box-shadow: 0px 1px 2px rgba(60, 64, 67, 0.3), 0px 1px 3px 1px rgba(60, 64, 67, 0.15);\n",
              "      fill: #174EA6;\n",
              "    }\n",
              "\n",
              "    [theme=dark] .colab-df-convert {\n",
              "      background-color: #3B4455;\n",
              "      fill: #D2E3FC;\n",
              "    }\n",
              "\n",
              "    [theme=dark] .colab-df-convert:hover {\n",
              "      background-color: #434B5C;\n",
              "      box-shadow: 0px 1px 3px 1px rgba(0, 0, 0, 0.15);\n",
              "      filter: drop-shadow(0px 1px 2px rgba(0, 0, 0, 0.3));\n",
              "      fill: #FFFFFF;\n",
              "    }\n",
              "  </style>\n",
              "\n",
              "      <script>\n",
              "        const buttonEl =\n",
              "          document.querySelector('#df-b3c2f41b-8fe0-475a-ae9c-b72a28929aab button.colab-df-convert');\n",
              "        buttonEl.style.display =\n",
              "          google.colab.kernel.accessAllowed ? 'block' : 'none';\n",
              "\n",
              "        async function convertToInteractive(key) {\n",
              "          const element = document.querySelector('#df-b3c2f41b-8fe0-475a-ae9c-b72a28929aab');\n",
              "          const dataTable =\n",
              "            await google.colab.kernel.invokeFunction('convertToInteractive',\n",
              "                                                     [key], {});\n",
              "          if (!dataTable) return;\n",
              "\n",
              "          const docLinkHtml = 'Like what you see? Visit the ' +\n",
              "            '<a target=\"_blank\" href=https://colab.research.google.com/notebooks/data_table.ipynb>data table notebook</a>'\n",
              "            + ' to learn more about interactive tables.';\n",
              "          element.innerHTML = '';\n",
              "          dataTable['output_type'] = 'display_data';\n",
              "          await google.colab.output.renderOutput(dataTable, element);\n",
              "          const docLink = document.createElement('div');\n",
              "          docLink.innerHTML = docLinkHtml;\n",
              "          element.appendChild(docLink);\n",
              "        }\n",
              "      </script>\n",
              "    </div>\n",
              "  </div>\n",
              "  "
            ]
          },
          "metadata": {},
          "execution_count": 3
        }
      ],
      "source": [
        "texts = data['comment_text'].values\n",
        "target = data['should_ban'].values\n",
        "data[50::200]"
      ]
    },
    {
      "cell_type": "code",
      "execution_count": 4,
      "metadata": {
        "id": "zb5lV0HLCj4j"
      },
      "outputs": [],
      "source": [
        "from sklearn.model_selection import train_test_split\n",
        "texts_train, texts_test, y_train, y_test = train_test_split(texts, target, test_size=0.5, random_state=42)"
      ]
    },
    {
      "cell_type": "markdown",
      "metadata": {
        "id": "dEuGRP1XCj4n"
      },
      "source": [
        "__Note:__ it is generally a good idea to split data into train/test before anything is done to them.\n",
        "\n",
        "It guards you against possible data leakage in the preprocessing stage. For example, should you decide to select words present in obscene tweets as features, you should only count those words over the training set. Otherwise your algoritm can cheat evaluation."
      ]
    },
    {
      "cell_type": "markdown",
      "metadata": {
        "id": "moROBLHfCj4q"
      },
      "source": [
        "### Preprocessing and tokenization\n",
        "\n",
        "Comments contain raw text with punctuation, upper/lowercase letters and even newline symbols.\n",
        "\n",
        "To simplify all further steps, we'll split text into space-separated tokens using one of nltk tokenizers.\n",
        "\n",
        "Generally, library `nltk` [link](https://www.nltk.org) is widely used in NLP. It is not necessary in here, but mentioned to intoduce it to you."
      ]
    },
    {
      "cell_type": "code",
      "execution_count": 5,
      "metadata": {
        "id": "iOoXD1rdCj4t",
        "colab": {
          "base_uri": "https://localhost:8080/"
        },
        "outputId": "608c8249-6844-4295-b572-1c2322cb380f"
      },
      "outputs": [
        {
          "output_type": "stream",
          "name": "stdout",
          "text": [
            "before: How to be a grown-up at work: replace \"I don't want to do that\" with \"Ok, great!\".\n",
            "after: how to be a grown-up at work : replace \" i don't want to do that \" with \" ok , great ! \" .\n"
          ]
        }
      ],
      "source": [
        "from nltk.tokenize import TweetTokenizer\n",
        "tokenizer = TweetTokenizer()\n",
        "preprocess = lambda text: ' '.join(tokenizer.tokenize(text.lower()))\n",
        "\n",
        "text = 'How to be a grown-up at work: replace \"I don\\'t want to do that\" with \"Ok, great!\".'\n",
        "print(\"before:\", text,)\n",
        "print(\"after:\", preprocess(text),)"
      ]
    },
    {
      "cell_type": "code",
      "execution_count": 6,
      "metadata": {
        "id": "6gLHY0puCj4v"
      },
      "outputs": [],
      "source": [
        "# task: preprocess each comment in train and test\n",
        "from nltk.tokenize import WordPunctTokenizer\n",
        "\n",
        "tokenizer = WordPunctTokenizer()\n",
        "texts_train = [preprocess(line) for line in texts_train] #<YOUR CODE>\n",
        "texts_test = [preprocess(line) for line in texts_test]#<YOUR CODE>"
      ]
    },
    {
      "cell_type": "code",
      "execution_count": 7,
      "metadata": {
        "id": "-RSqAzkkCj4w"
      },
      "outputs": [],
      "source": [
        "# Small check that everything is done properly\n",
        "assert texts_train[5] ==  'who cares anymore . they attack with impunity .'\n",
        "assert texts_test[89] == 'hey todds ! quick q ? why are you so gay'\n",
        "assert len(texts_test) == len(y_test)"
      ]
    },
    {
      "cell_type": "markdown",
      "metadata": {
        "id": "E2ar9duACj4x"
      },
      "source": [
        "### Step 1: bag of words\n",
        "\n",
        "One traditional approach to such problem is to use bag of words features:\n",
        "1. build a vocabulary of frequent words (use train data only)\n",
        "2. for each training sample, count the number of times a word occurs in it (for each word in vocabulary).\n",
        "3. consider this count a feature for some classifier\n",
        "\n",
        "__Note:__ in practice, you can compute such features using sklearn. __Please don't do that in the current assignment, though.__\n",
        "* `from sklearn.feature_extraction.text import CountVectorizer, TfidfVectorizer`"
      ]
    },
    {
      "cell_type": "code",
      "source": [
        "from collections import OrderedDict\n",
        "from sklearn.base import TransformerMixin\n",
        "from typing import List, Union\n",
        "import numpy as np\n",
        "\n",
        "\n",
        "from collections import Counter\n",
        "\n",
        "class BoW(TransformerMixin):\n",
        "    \"\"\"\n",
        "    Bag of words tranformer class\n",
        "    \n",
        "    check out:\n",
        "    https://scikit-learn.org/stable/modules/generated/sklearn.base.TransformerMixin.html\n",
        "    to know about TransformerMixin class\n",
        "    \"\"\"\n",
        "\n",
        "    def __init__(self, k: int):\n",
        "        \"\"\"\n",
        "        :param k: number of most frequent tokens to use\n",
        "        \"\"\"\n",
        "        self.k = k\n",
        "        # list of k most frequent tokens\n",
        "        self.bow = None\n",
        "\n",
        "    def fit(self, X: np.ndarray, y=None):\n",
        "        \"\"\"\n",
        "        :param X: array of texts to be trained on\n",
        "        \"\"\"\n",
        "        # task: find up to self.k most frequent tokens in texts_train,\n",
        "        # sort them by number of occurences (highest first)\n",
        "        # store most frequent tokens in self.bow\n",
        "        token_counts = Counter()\n",
        "        for text in texts_train:\n",
        "            token_counts.update(text.split(\" \"))\n",
        "        bow = token_counts.most_common(self.k)        \n",
        "        key = [i[0] for i in bow]\n",
        "        self.bow = key\n",
        "\n",
        "        # fit method must always return self\n",
        "        return self.bow\n",
        "\n",
        "    def _text_to_bow(self, text: str) -> np.ndarray:\n",
        "        \"\"\"\n",
        "        convert text string to an array of token counts. Use self.bow.\n",
        "        :param text: text to be transformed\n",
        "        :return bow_feature: feature vector, made by bag of words\n",
        "        \"\"\"\n",
        "        result = []\n",
        "        te = text.split(\" \")\n",
        "        for a in self.bow:\n",
        "          m = te.count(a)\n",
        "          result.append(m)\n",
        "        return np.array(result, \"float32\")\n",
        "\n",
        "    def transform(self, X: np.ndarray, y=None) -> np.ndarray:\n",
        "        \"\"\"\n",
        "        :param X: array of texts to transform\n",
        "        :return: array of transformed texts\n",
        "        \"\"\"\n",
        "        assert self.bow is not None\n",
        "        return np.stack([self._text_to_bow(text) for text in X])\n",
        "\n",
        "    def get_vocabulary(self) -> Union[List[str], None]:\n",
        "        return self.bow"
      ],
      "metadata": {
        "id": "WJxfiDji04pN"
      },
      "execution_count": 8,
      "outputs": []
    },
    {
      "cell_type": "code",
      "execution_count": 9,
      "metadata": {
        "id": "clmimFJ6Cj4z",
        "colab": {
          "base_uri": "https://localhost:8080/"
        },
        "outputId": "3db1deba-b0d3-43e2-f31f-195a9c6a4fda"
      },
      "outputs": [
        {
          "output_type": "stream",
          "name": "stdout",
          "text": [
            "example features: ['!', '.,', '1st', '7094', 'accepted', 'agenda', 'anonymous', 'aside', 'barnstar', 'bitch', 'bryant', 'cd', 'civility', 'compounding', 'convinced', 'cursed', 'demonizing', 'disadvantages', 'dubious', 'empty', 'example', 'fault', 'fool', 'gallo', 'graduation', 'haven', 'hoops', 'improving', 'interests', 'jpg', 'late', 'listen', 'mangojuice', 'mexican', 'move', 'niederlandish', 'offended', 'paraded', 'picked', 'power', 'props', 'rape', 'releases', 'revealed', 'sanchez', 'sexuality', 'size', 'speak', 'strawberry', 'surveys', 'terrorist', 'tits', 'turned', 'upload', 'voted', 'whore', 'www', 'ல']\n"
          ]
        }
      ],
      "source": [
        "# task: find up to k most frequent tokens in texts_train,\n",
        "# sort them by number of occurences (highest first)\n",
        "k = min(10000, len(set(' '.join(texts_train).split())))\n",
        "\n",
        "#<YOUR CODE>\n",
        "bow = BoW(k)\n",
        "bow.fit(texts_train)\n",
        "\n",
        "print('example features:', sorted(bow.get_vocabulary())[::100])"
      ]
    },
    {
      "cell_type": "code",
      "execution_count": 10,
      "metadata": {
        "id": "1I45EwbyCj41"
      },
      "outputs": [],
      "source": [
        "X_train_bow = bow.transform(texts_train)\n",
        "X_test_bow = bow.transform(texts_test)"
      ]
    },
    {
      "cell_type": "code",
      "execution_count": 11,
      "metadata": {
        "id": "wrkZmANNCj41"
      },
      "outputs": [],
      "source": [
        "# Small check that everything is done properly\n",
        "bow_vocabulary = bow.get_vocabulary()\n",
        "k_max = len(set(' '.join(texts_train).split()))\n",
        "assert X_train_bow.shape == (len(texts_train), min(k, k_max))\n",
        "assert X_test_bow.shape == (len(texts_test), min(k, k_max))\n",
        "assert np.all(X_train_bow[5:10].sum(-1) == np.array([len(s.split()) for s in  texts_train[5:10]]))\n",
        "assert len(bow_vocabulary) <= min(k, k_max)\n",
        "assert X_train_bow[6, bow_vocabulary.index('.')] == texts_train[6].split().count('.')"
      ]
    },
    {
      "cell_type": "markdown",
      "metadata": {
        "id": "ybr7cOTGCj42"
      },
      "source": [
        "Now let's do the trick with `sklearn` logistic regression implementation:"
      ]
    },
    {
      "cell_type": "code",
      "execution_count": 12,
      "metadata": {
        "id": "ySUYstR3Cj43"
      },
      "outputs": [],
      "source": [
        "from sklearn.linear_model import LogisticRegression\n",
        "bow_model = LogisticRegression().fit(X_train_bow, y_train)"
      ]
    },
    {
      "cell_type": "code",
      "execution_count": 13,
      "metadata": {
        "id": "iGQqGRfGCj44",
        "colab": {
          "base_uri": "https://localhost:8080/",
          "height": 281
        },
        "outputId": "4d02ab16-78cc-4e7e-fd99-4e4512ad78c0"
      },
      "outputs": [
        {
          "output_type": "display_data",
          "data": {
            "text/plain": [
              "<Figure size 432x288 with 1 Axes>"
            ],
            "image/png": "[encoded data removed]"
          },
          "metadata": {
            "needs_background": "light"
          }
        }
      ],
      "source": [
        "from sklearn.metrics import roc_auc_score, roc_curve\n",
        "\n",
        "for name, X, y, model in [\n",
        "    ('train', X_train_bow, y_train, bow_model),\n",
        "    ('test ', X_test_bow, y_test, bow_model)\n",
        "]:\n",
        "    proba = model.predict_proba(X)[:, 1]\n",
        "    auc = roc_auc_score(y, proba)\n",
        "    plt.plot(*roc_curve(y, proba)[:2], label='%s AUC=%.4f' % (name, auc))\n",
        "\n",
        "plt.plot([0, 1], [0, 1], '--', color='black',)\n",
        "plt.legend(fontsize='large')\n",
        "plt.title(\"LogisticRegression + bow\")\n",
        "plt.grid()"
      ]
    },
    {
      "cell_type": "code",
      "source": [
        "import numpy as np\n",
        "from matplotlib import pyplot as plt\n",
        "\n",
        "\n",
        "def plot_train_process(train_loss, val_loss, train_accuracy, val_accuracy, title_suffix=''):\n",
        "    fig, axes = plt.subplots(1, 2, figsize=(15, 5))\n",
        "\n",
        "    axes[0].set_title(' '.join(['Loss', title_suffix]))\n",
        "    axes[0].plot(train_loss, label='train')\n",
        "    axes[0].plot(val_loss, label='validation')\n",
        "    axes[0].legend()\n",
        "\n",
        "    axes[1].set_title(' '.join(['Validation accuracy', title_suffix]))\n",
        "    axes[1].plot(train_accuracy, label='train')\n",
        "    axes[1].plot(val_accuracy, label='validation')\n",
        "    axes[1].legend()\n",
        "    plt.show()"
      ],
      "metadata": {
        "id": "2XTkzgpzgduv"
      },
      "execution_count": 14,
      "outputs": []
    },
    {
      "cell_type": "markdown",
      "metadata": {
        "id": "COogDtOaCj45"
      },
      "source": [
        "Seems alright. Now let's create the simple logistic regression using PyTorch. Just like in the classwork."
      ]
    },
    {
      "cell_type": "code",
      "execution_count": 15,
      "metadata": {
        "id": "r9M0BP_yCj46"
      },
      "outputs": [],
      "source": [
        "import torch\n",
        "from torch import nn\n",
        "from torch.nn import functional as F\n",
        "from torch.optim.lr_scheduler import StepLR, ReduceLROnPlateau\n",
        "\n",
        "from sklearn.metrics import accuracy_score"
      ]
    },
    {
      "cell_type": "code",
      "execution_count": 16,
      "metadata": {
        "id": "BFSWeYsyCj47"
      },
      "outputs": [],
      "source": [
        "model = nn.Sequential()\n",
        "### YOUR CODE HERE\n",
        "\n",
        "model.add_module('l1', nn.Linear(5736,  2))"
      ]
    },
    {
      "cell_type": "markdown",
      "metadata": {
        "id": "1s28KVxgCj49"
      },
      "source": [
        "Remember what we discussed about loss functions! `nn.CrossEntropyLoss` combines both log-softmax and `NLLLoss`.\n",
        "\n",
        "__Be careful with it! Criterion `nn.CrossEntropyLoss` with still work with log-softmax output, but it won't allow you to converge to the optimum.__ Next comes small demonstration:"
      ]
    },
    {
      "cell_type": "code",
      "execution_count": 17,
      "metadata": {
        "id": "XUJjdFj1Cj4-"
      },
      "outputs": [],
      "source": [
        "# loss_function = nn.NLLLoss()\n",
        "loss_function = nn.CrossEntropyLoss()"
      ]
    },
    {
      "cell_type": "code",
      "execution_count": 18,
      "metadata": {
        "id": "P2CFNmfcCj4-"
      },
      "outputs": [],
      "source": [
        "opt = torch.optim.Adam(model.parameters(), lr=0.01) ### YOUR CODE HERE"
      ]
    },
    {
      "cell_type": "code",
      "source": [
        "device = torch.device(\"cuda:0\") if torch.cuda.is_available() else torch.device(\"cpu\")\n",
        "model = model.to(device)"
      ],
      "metadata": {
        "id": "z0LX-6dy5CQS"
      },
      "execution_count": 19,
      "outputs": []
    },
    {
      "cell_type": "code",
      "source": [
        "X_train_bow_torch = torch.tensor(X_train_bow, device=device)### YOUR CODE HERE\n",
        "X_test_bow_torch = torch.tensor(X_test_bow, device=device)### YOUR CODE HERE"
      ],
      "metadata": {
        "id": "xxw1dTAMrWN1"
      },
      "execution_count": 20,
      "outputs": []
    },
    {
      "cell_type": "code",
      "source": [
        "y_train_torch = torch.tensor( y_train, device=device)### YOUR CODE HERE\n",
        "y_test_torch = torch.tensor( y_test, device=device)### YOUR CODE HERE"
      ],
      "metadata": {
        "id": "RHKLwDeCrgJ-"
      },
      "execution_count": 21,
      "outputs": []
    },
    {
      "cell_type": "markdown",
      "metadata": {
        "id": "ev8XsAcUCj5A"
      },
      "source": [
        "Let's test that everything is fine"
      ]
    },
    {
      "cell_type": "code",
      "source": [
        "loss = loss_function(model(X_train_bow_torch[:3]), y_train_torch[:3])"
      ],
      "metadata": {
        "id": "Zx-37ZaYsA0F"
      },
      "execution_count": 22,
      "outputs": []
    },
    {
      "cell_type": "code",
      "source": [
        "loss"
      ],
      "metadata": {
        "colab": {
          "base_uri": "https://localhost:8080/"
        },
        "id": "vNSpgCWS9orJ",
        "outputId": "e81c9de9-015b-4c33-e78a-5ec6a1b2f817"
      },
      "execution_count": 23,
      "outputs": [
        {
          "output_type": "execute_result",
          "data": {
            "text/plain": [
              "tensor(0.7528, grad_fn=<NllLossBackward0>)"
            ]
          },
          "metadata": {},
          "execution_count": 23
        }
      ]
    },
    {
      "cell_type": "code",
      "execution_count": 24,
      "metadata": {
        "id": "PrLFvLuWCj5B"
      },
      "outputs": [],
      "source": [
        "assert type(loss.item()) == float"
      ]
    },
    {
      "cell_type": "markdown",
      "metadata": {
        "id": "6eYSV7JKCj5C"
      },
      "source": [
        "Here comes small function to train the model. In future we will take in into separate file, but for this homework it's ok to implement it here. "
      ]
    },
    {
      "cell_type": "code",
      "source": [
        "def train_model(\n",
        "    model,\n",
        "    opt,\n",
        "    lr_scheduler,\n",
        "    X_train_torch,\n",
        "    y_train_torch,\n",
        "    X_val_torch,\n",
        "    y_val_torch,\n",
        "    n_iterations=500,\n",
        "    batch_size=32,\n",
        "    warm_start=False,\n",
        "    show_plots=True,\n",
        "    eval_every=10\n",
        "):\n",
        "    if not warm_start:\n",
        "        for name, module in model.named_children():\n",
        "            print('resetting ', name)\n",
        "            try:\n",
        "                module.reset_parameters()\n",
        "            except AttributeError as e:\n",
        "                print('Cannot reset {} module parameters: {}'.format(name, e))\n",
        "\n",
        "    train_loss_history = []\n",
        "    train_acc_history = []\n",
        "    val_loss_history = []\n",
        "    val_acc_history = []\n",
        "\n",
        "    local_train_loss_history = []\n",
        "    local_train_acc_history = []\n",
        "    for i in range(n_iterations):\n",
        "\n",
        "        # sample 256 random observations\n",
        "        ix = np.random.randint(0, len(X_train_torch), batch_size)\n",
        "        x_batch = X_train_torch[ix]\n",
        "        y_batch = y_train_torch[ix]\n",
        "\n",
        "        # predict log-probabilities or logits\n",
        "        y_predicted = model(x_batch)### YOUR CODE\n",
        "\n",
        "        # compute loss, just like before\n",
        "        ### YOUR CODE\n",
        "        loss = loss_function(y_predicted, y_batch)\n",
        "\n",
        "\n",
        "        # compute gradients\n",
        "        ### YOUR CODE\n",
        "        loss.backward()\n",
        "\n",
        "        # Adam step\n",
        "        ### YOUR CODE\n",
        "        opt.step()\n",
        "\n",
        "        # clear gradients\n",
        "        ### YOUR CODE\n",
        "        opt.zero_grad()\n",
        "\n",
        "\n",
        "        local_train_loss_history.append(loss.data.numpy())\n",
        "        local_train_acc_history.append(\n",
        "            accuracy_score(\n",
        "                y_batch.to('cpu').detach().numpy(),\n",
        "                y_predicted.to('cpu').detach().numpy().argmax(axis=1)\n",
        "            )\n",
        "        )\n",
        "\n",
        "        if i % eval_every == 0:\n",
        "            train_loss_history.append(np.mean(local_train_loss_history))\n",
        "            train_acc_history.append(np.mean(local_train_acc_history))\n",
        "            local_train_loss_history, local_train_acc_history = [], []\n",
        "\n",
        "            predictions_val = model(X_val_torch)\n",
        "            val_loss_history.append(loss_function(predictions_val, y_val_torch).to('cpu').detach().item())\n",
        "\n",
        "            acc_score_val = accuracy_score(y_val_torch.cpu().numpy(), predictions_val.to('cpu').detach().numpy().argmax(axis=1))\n",
        "            val_acc_history.append(acc_score_val)\n",
        "            lr_scheduler.step(train_loss_history[-1])\n",
        "\n",
        "            predictions_val = []\n",
        "            acc_score_val = []\n",
        "\n",
        "            if show_plots:\n",
        "                display.clear_output(wait=True)\n",
        "                plot_train_process(train_loss_history, val_loss_history, train_acc_history, val_acc_history)\n",
        "    return model"
      ],
      "metadata": {
        "id": "PCFI2tQFBZuo"
      },
      "execution_count": 25,
      "outputs": []
    },
    {
      "cell_type": "markdown",
      "metadata": {
        "id": "iFo8fUjbCj5D"
      },
      "source": [
        "Let's run it on the data. Note, that here we use the `test` part of the data for validation. It's not so good idea in general, but in this task our main goal is practice."
      ]
    },
    {
      "cell_type": "code",
      "source": [
        "lr_scheduler = StepLR(opt, step_size=30, gamma=0.1)"
      ],
      "metadata": {
        "id": "YPHN3J-8T4zW"
      },
      "execution_count": 26,
      "outputs": []
    },
    {
      "cell_type": "code",
      "source": [
        "y_train_torch.shape"
      ],
      "metadata": {
        "colab": {
          "base_uri": "https://localhost:8080/"
        },
        "id": "6NqdR-TfWMzq",
        "outputId": "c0bfc258-a4bd-4744-a285-6ed1ee5f6f2c"
      },
      "execution_count": 27,
      "outputs": [
        {
          "output_type": "execute_result",
          "data": {
            "text/plain": [
              "torch.Size([500])"
            ]
          },
          "metadata": {},
          "execution_count": 27
        }
      ]
    },
    {
      "cell_type": "code",
      "source": [
        "y_test_torch.shape"
      ],
      "metadata": {
        "colab": {
          "base_uri": "https://localhost:8080/"
        },
        "id": "5wE8RM3eWaqB",
        "outputId": "f239a844-1ad4-407d-e60d-efeb5f9436e6"
      },
      "execution_count": 28,
      "outputs": [
        {
          "output_type": "execute_result",
          "data": {
            "text/plain": [
              "torch.Size([500])"
            ]
          },
          "metadata": {},
          "execution_count": 28
        }
      ]
    },
    {
      "cell_type": "code",
      "execution_count": 29,
      "metadata": {
        "id": "t2DY-u3GCj5E",
        "colab": {
          "base_uri": "https://localhost:8080/",
          "height": 388
        },
        "outputId": "5e7f0280-c55d-4dd5-8b46-6e608de84498"
      },
      "outputs": [
        {
          "output_type": "display_data",
          "data": {
            "text/plain": [
              "<Figure size 1080x360 with 2 Axes>"
            ],
            "image/png": "[encoded data removed]"
          },
          "metadata": {
            "needs_background": "light"
          }
        },
        {
          "output_type": "execute_result",
          "data": {
            "text/plain": [
              "Sequential(\n",
              "  (l1): Linear(in_features=5736, out_features=2, bias=True)\n",
              ")"
            ]
          },
          "metadata": {},
          "execution_count": 29
        }
      ],
      "source": [
        "train_model(model, opt, lr_scheduler, X_train_bow_torch, y_train_torch, X_test_bow_torch, y_test_torch)"
      ]
    },
    {
      "cell_type": "code",
      "source": [
        "from sklearn.metrics import roc_auc_score, roc_curve\n",
        "\n",
        "for name, X, y, model in [\n",
        "    ('train', X_train_bow_torch, y_train, model),\n",
        "    ('test ', X_test_bow_torch, y_test, model)\n",
        "]:\n",
        "    proba = model(X).detach().cpu().numpy()[:, 1]\n",
        "    auc = roc_auc_score(y, proba)\n",
        "    plt.plot(*roc_curve(y, proba)[:2], label='%s AUC=%.4f' % (name, auc))\n",
        "\n",
        "plt.plot([0, 1], [0, 1], '--', color='black',)\n",
        "plt.legend(fontsize='large')\n",
        "plt.title(\"Linear + bow\")\n",
        "plt.grid()"
      ],
      "metadata": {
        "colab": {
          "base_uri": "https://localhost:8080/",
          "height": 281
        },
        "id": "P5YfwGfEumGy",
        "outputId": "e36adbdc-a8dd-4471-a94a-c77e6855698f"
      },
      "execution_count": 30,
      "outputs": [
        {
          "output_type": "display_data",
          "data": {
            "text/plain": [
              "<Figure size 432x288 with 1 Axes>"
            ],
            "image/png": "[encoded data removed]"
          },
          "metadata": {
            "needs_background": "light"
          }
        }
      ]
    },
    {
      "cell_type": "markdown",
      "metadata": {
        "id": "DY8Xc77FCj5F"
      },
      "source": [
        "Try to vary the number of tokens `k` and check how the model performance changes. Show it on a plot."
      ]
    },
    {
      "cell_type": "code",
      "execution_count": null,
      "metadata": {
        "id": "wjrZSl7wCj5G"
      },
      "outputs": [],
      "source": [
        "# Your beautiful code here"
      ]
    },
    {
      "cell_type": "code",
      "source": [
        "mask_5000 = torch.arange(0,5000)\n",
        "mask_5000 = mask_5000.to(device)\n",
        "mask_5000"
      ],
      "metadata": {
        "colab": {
          "base_uri": "https://localhost:8080/"
        },
        "id": "tgZcpFXyCloz",
        "outputId": "5b9c5811-d2f7-4d1f-9cfc-1ff39e7dc21a"
      },
      "execution_count": 31,
      "outputs": [
        {
          "output_type": "execute_result",
          "data": {
            "text/plain": [
              "tensor([   0,    1,    2,  ..., 4997, 4998, 4999])"
            ]
          },
          "metadata": {},
          "execution_count": 31
        }
      ]
    },
    {
      "cell_type": "code",
      "source": [
        "X_train_bow_torch_5000 = torch.index_select(X_train_bow_torch, 1, mask_5000)\n",
        "X_test_bow_torch_5000 = torch.index_select(X_test_bow_torch, 1, mask_5000)\n",
        "y_test_torch_5000 = y_test_torch[:5000]\n",
        "y_train_torch_5000 = y_test_torch[:5000]"
      ],
      "metadata": {
        "id": "XSW9NRZCh-mh"
      },
      "execution_count": 32,
      "outputs": []
    },
    {
      "cell_type": "code",
      "source": [
        "print(X_train_bow_torch_5000.shape)\n",
        "print(X_test_bow_torch_5000.shape)"
      ],
      "metadata": {
        "colab": {
          "base_uri": "https://localhost:8080/"
        },
        "id": "DCkPSCaziTzW",
        "outputId": "559502ad-6ad4-4280-9e42-0d3a80d8521d"
      },
      "execution_count": 33,
      "outputs": [
        {
          "output_type": "stream",
          "name": "stdout",
          "text": [
            "torch.Size([500, 5000])\n",
            "torch.Size([500, 5000])\n"
          ]
        }
      ]
    },
    {
      "cell_type": "code",
      "source": [
        "model_5000 = nn.Sequential()\n",
        "\n",
        "model_5000.add_module('l1', nn.Linear(5000, 2))\n",
        "model_5000.to(device);"
      ],
      "metadata": {
        "id": "p9BnXbAGkEyO"
      },
      "execution_count": 34,
      "outputs": []
    },
    {
      "cell_type": "code",
      "source": [
        "opt_5000 = torch.optim.Adam(model_5000.parameters(), lr=0.05) ### YOUR CODE HERE\n",
        "lr_scheduler_5000 = StepLR(opt_5000, step_size=30, gamma=0.1)"
      ],
      "metadata": {
        "id": "Vo5r9ZBQ-5Qd"
      },
      "execution_count": 35,
      "outputs": []
    },
    {
      "cell_type": "code",
      "source": [
        "train_model(model_5000, opt_5000, lr_scheduler_5000, X_train_bow_torch_5000, y_train_torch_5000, X_test_bow_torch_5000, y_test_torch_5000)"
      ],
      "metadata": {
        "colab": {
          "base_uri": "https://localhost:8080/",
          "height": 388
        },
        "id": "v5sQrJKJjwmc",
        "outputId": "56d5eb89-62e6-4317-8bcb-f28aef65741e"
      },
      "execution_count": 36,
      "outputs": [
        {
          "output_type": "display_data",
          "data": {
            "text/plain": [
              "<Figure size 1080x360 with 2 Axes>"
            ],
            "image/png": "[encoded data removed]"
          },
          "metadata": {
            "needs_background": "light"
          }
        },
        {
          "output_type": "execute_result",
          "data": {
            "text/plain": [
              "Sequential(\n",
              "  (l1): Linear(in_features=5000, out_features=2, bias=True)\n",
              ")"
            ]
          },
          "metadata": {},
          "execution_count": 36
        }
      ]
    },
    {
      "cell_type": "code",
      "source": [
        "from sklearn.metrics import roc_auc_score, roc_curve\n",
        "\n",
        "for name, X, y, model in [\n",
        "    ('train', X_train_bow_torch_5000, y_train_torch_5000, model_5000),\n",
        "    ('test ', X_test_bow_torch_5000, y_test_torch_5000, model_5000)\n",
        "]:\n",
        "    proba = model(X).detach().cpu().numpy()[:, 1]\n",
        "    auc = roc_auc_score(y, proba)\n",
        "    plt.plot(*roc_curve(y, proba)[:2], label='%s AUC=%.4f' % (name, auc))\n",
        "\n",
        "plt.plot([0, 1], [0, 1], '--', color='black',)\n",
        "plt.legend(fontsize='large')\n",
        "plt.title(\"Linear + bow_5000\")\n",
        "plt.grid()"
      ],
      "metadata": {
        "colab": {
          "base_uri": "https://localhost:8080/",
          "height": 281
        },
        "id": "igWV464KBbiP",
        "outputId": "006b92fd-8a3a-4798-af1a-2161a0e2b1a8"
      },
      "execution_count": 37,
      "outputs": [
        {
          "output_type": "display_data",
          "data": {
            "text/plain": [
              "<Figure size 432x288 with 1 Axes>"
            ],
            "image/png": "[encoded data removed]"
          },
          "metadata": {
            "needs_background": "light"
          }
        }
      ]
    },
    {
      "cell_type": "code",
      "source": [
        "mask_4000 = torch.arange(0,4000)\n",
        "mask_4000 = mask_4000.to(device)\n",
        "X_train_bow_torch_4000 = torch.index_select(X_train_bow_torch, 1, mask_4000)\n",
        "X_test_bow_torch_4000 = torch.index_select(X_test_bow_torch, 1, mask_4000)\n",
        "y_test_torch_4000 = y_test_torch[:4000]\n",
        "y_train_torch_4000 = y_train_torch[:4000]"
      ],
      "metadata": {
        "id": "jIDja8lolHhD"
      },
      "execution_count": 38,
      "outputs": []
    },
    {
      "cell_type": "code",
      "source": [
        "print(X_train_bow_torch_4000.shape)\n",
        "print(X_test_bow_torch_4000.shape)"
      ],
      "metadata": {
        "colab": {
          "base_uri": "https://localhost:8080/"
        },
        "id": "J355G2a_lRKZ",
        "outputId": "cb980e60-fa9d-4419-9967-1751d13dbe9f"
      },
      "execution_count": 39,
      "outputs": [
        {
          "output_type": "stream",
          "name": "stdout",
          "text": [
            "torch.Size([500, 4000])\n",
            "torch.Size([500, 4000])\n"
          ]
        }
      ]
    },
    {
      "cell_type": "code",
      "source": [
        "model_4000 = nn.Sequential()\n",
        "\n",
        "model_4000.add_module('l1', nn.Linear(4000,  2))\n",
        "model_4000.to(device);"
      ],
      "metadata": {
        "id": "TAUrbsOmlfGo"
      },
      "execution_count": 40,
      "outputs": []
    },
    {
      "cell_type": "code",
      "source": [
        "opt_4000 = torch.optim.Adam(model_4000.parameters(), lr=0.01) ### YOUR CODE HERE\n",
        "lr_scheduler_4000 = StepLR(opt_4000, step_size=30, gamma=0.1)"
      ],
      "metadata": {
        "id": "_AlDOqOJAo0I"
      },
      "execution_count": 41,
      "outputs": []
    },
    {
      "cell_type": "code",
      "source": [
        "train_model(model_4000, opt_4000, lr_scheduler_4000, X_train_bow_torch_4000, y_train_torch_4000, X_test_bow_torch_4000, y_test_torch)"
      ],
      "metadata": {
        "colab": {
          "base_uri": "https://localhost:8080/",
          "height": 388
        },
        "id": "64ZwPjnTlfAt",
        "outputId": "e27f9a97-32d2-433b-b47a-bef05d7c676e"
      },
      "execution_count": 42,
      "outputs": [
        {
          "output_type": "display_data",
          "data": {
            "text/plain": [
              "<Figure size 1080x360 with 2 Axes>"
            ],
            "image/png": "[encoded data removed]"
          },
          "metadata": {
            "needs_background": "light"
          }
        },
        {
          "output_type": "execute_result",
          "data": {
            "text/plain": [
              "Sequential(\n",
              "  (l1): Linear(in_features=4000, out_features=2, bias=True)\n",
              ")"
            ]
          },
          "metadata": {},
          "execution_count": 42
        }
      ]
    },
    {
      "cell_type": "code",
      "source": [
        "from sklearn.metrics import roc_auc_score, roc_curve\n",
        "\n",
        "for name, X, y, model in [\n",
        "    ('train', X_train_bow_torch_4000, y_train_torch_4000, model_4000),\n",
        "    ('test ', X_test_bow_torch_4000, y_test_torch_4000, model_4000)\n",
        "]:\n",
        "    proba = model(X).detach().cpu().numpy()[:, 1]\n",
        "    auc = roc_auc_score(y, proba)\n",
        "    plt.plot(*roc_curve(y, proba)[:2], label='%s AUC=%.4f' % (name, auc))\n",
        "\n",
        "plt.plot([0, 1], [0, 1], '--', color='black',)\n",
        "plt.legend(fontsize='large')\n",
        "plt.title(\"Linear + bow_4000\")\n",
        "plt.grid()"
      ],
      "metadata": {
        "colab": {
          "base_uri": "https://localhost:8080/",
          "height": 281
        },
        "id": "I8hrHwQxB8PJ",
        "outputId": "33caf992-204e-425d-b6b7-c8e4656f1663"
      },
      "execution_count": 43,
      "outputs": [
        {
          "output_type": "display_data",
          "data": {
            "text/plain": [
              "<Figure size 432x288 with 1 Axes>"
            ],
            "image/png": "[encoded data removed]"
          },
          "metadata": {
            "needs_background": "light"
          }
        }
      ]
    },
    {
      "cell_type": "markdown",
      "metadata": {
        "id": "laslzLNwCj5G"
      },
      "source": [
        "### Step 2: implement TF-IDF features\n",
        "\n",
        "Not all words are equally useful. One can prioritize rare words and downscale words like \"and\"/\"or\" by using __tf-idf features__. This abbreviation stands for __text frequency/inverse document frequence__ and means exactly that:\n",
        "\n",
        "$$ feature_i = { Count(word_i \\in x) \\times { log {N \\over Count(word_i \\in D) + \\alpha} }}, $$\n",
        "\n",
        "\n",
        "where x is a single text, D is your dataset (a collection of texts), N is a total number of documents and $\\alpha$ is a smoothing hyperparameter (typically 1). \n",
        "And $Count(word_i \\in D)$ is the number of documents where $word_i$ appears.\n",
        "\n",
        "It may also be a good idea to normalize each data sample after computing tf-idf features.\n",
        "\n",
        "__Your task:__ implement tf-idf features, train a model and evaluate ROC curve. Compare it with basic BagOfWords model from above.\n",
        "\n",
        "__Please don't use sklearn/nltk builtin tf-idf vectorizers in your solution :)__ You can still use 'em for debugging though."
      ]
    },
    {
      "cell_type": "markdown",
      "metadata": {
        "id": "foF6P62TCj5I"
      },
      "source": [
        "Blog post about implementing the TF-IDF features from scratch: https://triton.ml/blog/tf-idf-from-scratch"
      ]
    },
    {
      "cell_type": "code",
      "source": [
        "class TfIdf(TransformerMixin):\n",
        "    \"\"\"\n",
        "    Tf-Idf tranformer class\n",
        "    if you have troubles implementing Tf-Idf, check out:\n",
        "    https://streamsql.io/blog/tf-idf-from-scratch\n",
        "    \"\"\"\n",
        "\n",
        "    def __init__(self, k: int = None, normalize: bool = False):\n",
        "        \"\"\"\n",
        "        :param k: number of most frequent tokens to use\n",
        "        if set k equals None, than all words in train must be considered\n",
        "        :param normalize: if True, you must normalize each data sample\n",
        "        after computing tf-idf features\n",
        "        \"\"\"\n",
        "        self.k = k\n",
        "        self.normalize = normalize\n",
        "\n",
        "        # self.idf[term] = log(total # of documents / # of documents with term in it)\n",
        "        self.idf = OrderedDict()        \n",
        "\n",
        "    def fit(self, X: np.ndarray, y=None):\n",
        "        \"\"\"\n",
        "        :param X: array of texts to be trained on\n",
        "        \"\"\"\n",
        "        # fit method must always return self\n",
        "        token_counts = Counter()\n",
        "        for text in texts_train:\n",
        "            token_counts.update(text.split(\" \"))\n",
        "        token_most_common = token_counts.most_common(self.k)  \n",
        "        self.idf = dict(token_most_common)\n",
        "        return self\n",
        "\n",
        "    def _text_to_tf_idf(self, text: str) -> np.ndarray:\n",
        "        \"\"\"\n",
        "        convert text string to an array tf-idfs.\n",
        "        *Note* don't forget to normalize, when self.normalize == True\n",
        "        :param text: text to be transformed\n",
        "        :return tf_idf: tf-idf features\n",
        "        \"\"\"        \n",
        "        result = []\n",
        "        te = text.split(\" \")\n",
        "        for a in self.idf:\n",
        "          m = te.count(a) * np.log(k / (self.idf[a] + 1))\n",
        "          if self.normalize:\n",
        "            m /= len(te) \n",
        "          result.append(m)\n",
        "        return np.array(result, \"float32\")\n",
        "\n",
        "    def transform(self, X: np.ndarray, y=None) -> np.ndarray:\n",
        "        \"\"\"\n",
        "        :param X: array of texts to transform\n",
        "        :return: array of transformed texts\n",
        "        \"\"\"\n",
        "        assert self.idf is not None\n",
        "        return np.stack([self._text_to_tf_idf(text) for text in X])"
      ],
      "metadata": {
        "id": "qekG6Cx_1Bij"
      },
      "execution_count": 44,
      "outputs": []
    },
    {
      "cell_type": "markdown",
      "metadata": {
        "id": "WEdzpJZOCj5J"
      },
      "source": [
        "Same stuff about moel and optimizers here (or just omit it, if you are using the same model as before)."
      ]
    },
    {
      "cell_type": "code",
      "source": [
        "k = min(10000, len(set(' '.join(texts_train).split())))\n",
        "\n",
        "tfidf= TfIdf(k)\n",
        "tfidf.fit(texts_train)"
      ],
      "metadata": {
        "colab": {
          "base_uri": "https://localhost:8080/"
        },
        "id": "aC-CegY3apsL",
        "outputId": "4b88c435-33f5-4cf1-9b77-5393f62ee0e7"
      },
      "execution_count": 45,
      "outputs": [
        {
          "output_type": "execute_result",
          "data": {
            "text/plain": [
              "<__main__.TfIdf at 0x7f832c994450>"
            ]
          },
          "metadata": {},
          "execution_count": 45
        }
      ]
    },
    {
      "cell_type": "code",
      "source": [
        "X_train_tfidf = tfidf.transform(texts_train)\n",
        "X_test_tfidf = tfidf.transform(texts_test)"
      ],
      "metadata": {
        "id": "EUD9a5asaGcR"
      },
      "execution_count": 46,
      "outputs": []
    },
    {
      "cell_type": "code",
      "execution_count": 47,
      "metadata": {
        "id": "eEEHuj-sCj5K"
      },
      "outputs": [],
      "source": [
        "X_train_tfidf_torch = torch.tensor(X_train_tfidf, dtype=torch.float , device=device) ### YOUR CODE HERE\n",
        "X_test_tfidf_torch = torch.tensor(X_test_tfidf, dtype=torch.float , device=device)### YOUR CODE HERE"
      ]
    },
    {
      "cell_type": "code",
      "source": [
        "X_test_tfidf_torch.shape"
      ],
      "metadata": {
        "colab": {
          "base_uri": "https://localhost:8080/"
        },
        "id": "lIXcv-ilL3aU",
        "outputId": "b1f3136a-0a5b-4cff-d47d-c6606a80a800"
      },
      "execution_count": 48,
      "outputs": [
        {
          "output_type": "execute_result",
          "data": {
            "text/plain": [
              "torch.Size([500, 5736])"
            ]
          },
          "metadata": {},
          "execution_count": 48
        }
      ]
    },
    {
      "cell_type": "code",
      "source": [
        "from sklearn.linear_model import LogisticRegression\n",
        "tfidf_model = LogisticRegression().fit(X_train_tfidf, y_train)"
      ],
      "metadata": {
        "id": "utpeA_G86Zwr"
      },
      "execution_count": 49,
      "outputs": []
    },
    {
      "cell_type": "code",
      "source": [
        "from sklearn.metrics import roc_auc_score, roc_curve\n",
        "\n",
        "for name, X, y, model in [\n",
        "    ('train', X_train_tfidf, y_train, tfidf_model),\n",
        "    ('test ', X_test_tfidf, y_test, tfidf_model)\n",
        "]:\n",
        "    proba = model.predict_proba(X)[:, 1]\n",
        "    auc = roc_auc_score(y, proba)\n",
        "    plt.plot(*roc_curve(y, proba)[:2], label='%s AUC=%.4f' % (name, auc))\n",
        "\n",
        "plt.plot([0, 1], [0, 1], '--', color='black',)\n",
        "plt.legend(fontsize='large')\n",
        "plt.title(\"LogisticRegression + tfidf\")\n",
        "plt.grid()"
      ],
      "metadata": {
        "colab": {
          "base_uri": "https://localhost:8080/",
          "height": 281
        },
        "id": "xU9IT6HV6Zna",
        "outputId": "6f8c4b83-b274-44a1-c927-9b8bae8e521c"
      },
      "execution_count": 50,
      "outputs": [
        {
          "output_type": "display_data",
          "data": {
            "text/plain": [
              "<Figure size 432x288 with 1 Axes>"
            ],
            "image/png": "[encoded data removed]"
          },
          "metadata": {
            "needs_background": "light"
          }
        }
      ]
    },
    {
      "cell_type": "code",
      "source": [
        "model_ = nn.Sequential()\n",
        "\n",
        "model_.add_module('l1', nn.Linear(5736, 2))\n",
        "model_.to(device);"
      ],
      "metadata": {
        "id": "GYPl5UL-Zyt7"
      },
      "execution_count": 51,
      "outputs": []
    },
    {
      "cell_type": "code",
      "source": [
        "opt_ = torch.optim.Adam(model_.parameters(), lr=0.01)\n",
        "lr_scheduler_ = StepLR(opt_, step_size=30, gamma=0.1)"
      ],
      "metadata": {
        "id": "ZkmQ4IpZZGCy"
      },
      "execution_count": 52,
      "outputs": []
    },
    {
      "cell_type": "code",
      "source": [
        "train_model(model_, opt_, lr_scheduler_, X_train_tfidf_torch, y_train_torch, X_test_tfidf_torch, y_test_torch)"
      ],
      "metadata": {
        "colab": {
          "base_uri": "https://localhost:8080/",
          "height": 388
        },
        "id": "TS75tXZTIxb1",
        "outputId": "979d1ad1-539c-47de-9c49-028734dd92dd"
      },
      "execution_count": 53,
      "outputs": [
        {
          "output_type": "display_data",
          "data": {
            "text/plain": [
              "<Figure size 1080x360 with 2 Axes>"
            ],
            "image/png": "[encoded data removed]"
          },
          "metadata": {
            "needs_background": "light"
          }
        },
        {
          "output_type": "execute_result",
          "data": {
            "text/plain": [
              "Sequential(\n",
              "  (l1): Linear(in_features=5736, out_features=2, bias=True)\n",
              ")"
            ]
          },
          "metadata": {},
          "execution_count": 53
        }
      ]
    },
    {
      "cell_type": "code",
      "source": [
        "from sklearn.metrics import roc_auc_score, roc_curve\n",
        "\n",
        "for name, X, y, model in [\n",
        "    ('train', X_train_tfidf_torch, y_train_torch, model_),\n",
        "    ('test ', X_test_tfidf_torch, y_test_torch, model_)\n",
        "]:\n",
        "    proba = model(X).detach().cpu().numpy()[:, 1]\n",
        "    auc = roc_auc_score(y, proba)\n",
        "    plt.plot(*roc_curve(y, proba)[:2], label='%s AUC=%.4f' % (name, auc))\n",
        "\n",
        "plt.plot([0, 1], [0, 1], '--', color='black',)\n",
        "plt.legend(fontsize='large')\n",
        "plt.title(\"Linear + tfidf\")\n",
        "plt.grid()"
      ],
      "metadata": {
        "colab": {
          "base_uri": "https://localhost:8080/",
          "height": 281
        },
        "id": "5Kut1F0jaTBN",
        "outputId": "39ccc335-546d-427d-ed07-03bac1502ace"
      },
      "execution_count": 54,
      "outputs": [
        {
          "output_type": "display_data",
          "data": {
            "text/plain": [
              "<Figure size 432x288 with 1 Axes>"
            ],
            "image/png": "[encoded data removed]"
          },
          "metadata": {
            "needs_background": "light"
          }
        }
      ]
    },
    {
      "cell_type": "markdown",
      "metadata": {
        "id": "iDIXZ_UYCj5L"
      },
      "source": [
        "Fit your model to the data. No not hesitate to vary number of iterations, learning rate and so on.\n",
        "\n",
        "_Note: due to very small dataset, increasing the complexity of the network might not be the best idea._"
      ]
    },
    {
      "cell_type": "markdown",
      "metadata": {
        "id": "9R6gSZ5-Cj5M"
      },
      "source": [
        "### Step 3: Comparing it with Naive Bayes\n",
        "\n",
        "Naive Bayes classifier is a good choice for such small problems. Try to tune it for both BOW and TF-iDF features. Compare the results with Logistic Regression."
      ]
    },
    {
      "cell_type": "code",
      "source": [
        "from sklearn.naive_bayes import MultinomialNB\n",
        "\n",
        "clf_bow = MultinomialNB()\n",
        "clf_bow.fit(X_train_bow_torch, y_train_torch)"
      ],
      "metadata": {
        "colab": {
          "base_uri": "https://localhost:8080/"
        },
        "id": "Zf-IVP8bLgx5",
        "outputId": "fb03df47-8815-4d85-a37e-28c4e8eb3622"
      },
      "execution_count": 55,
      "outputs": [
        {
          "output_type": "execute_result",
          "data": {
            "text/plain": [
              "MultinomialNB()"
            ]
          },
          "metadata": {},
          "execution_count": 55
        }
      ]
    },
    {
      "cell_type": "code",
      "source": [
        "from sklearn.metrics import roc_auc_score, roc_curve\n",
        "\n",
        "for name, X, y, model in [\n",
        "    ('train', X_train_bow_torch, y_train_torch, clf_bow),\n",
        "    ('test ', X_test_bow_torch, y_test_torch, clf_bow)\n",
        "]:\n",
        "    proba = model.predict_proba(X)[:, 1]\n",
        "    auc = roc_auc_score(y, proba)\n",
        "    plt.plot(*roc_curve(y, proba)[:2], label='%s AUC=%.4f' % (name, auc))\n",
        "\n",
        "plt.plot([0, 1], [0, 1], '--', color='black',)\n",
        "plt.legend(fontsize='large')\n",
        "plt.title(\"Naive Bayes + bow\")\n",
        "plt.grid()"
      ],
      "metadata": {
        "colab": {
          "base_uri": "https://localhost:8080/",
          "height": 281
        },
        "id": "bn5Fc4Bf9IXe",
        "outputId": "68b4b506-9205-4f9c-8081-5fcb8efc9f3c"
      },
      "execution_count": 56,
      "outputs": [
        {
          "output_type": "display_data",
          "data": {
            "text/plain": [
              "<Figure size 432x288 with 1 Axes>"
            ],
            "image/png": "[encoded data removed]"
          },
          "metadata": {
            "needs_background": "light"
          }
        }
      ]
    },
    {
      "cell_type": "code",
      "source": [
        "from sklearn.naive_bayes import MultinomialNB\n",
        "\n",
        "clf_tfidf = MultinomialNB()\n",
        "clf_tfidf.fit(X_train_tfidf_torch, y_train_torch)"
      ],
      "metadata": {
        "colab": {
          "base_uri": "https://localhost:8080/"
        },
        "id": "MKQ2jBpr9rq-",
        "outputId": "14a6cc12-f72c-4394-b1c6-ac1d8a02ee7c"
      },
      "execution_count": 57,
      "outputs": [
        {
          "output_type": "execute_result",
          "data": {
            "text/plain": [
              "MultinomialNB()"
            ]
          },
          "metadata": {},
          "execution_count": 57
        }
      ]
    },
    {
      "cell_type": "code",
      "source": [
        "from sklearn.metrics import roc_auc_score, roc_curve\n",
        "\n",
        "for name, X, y, model in [\n",
        "    ('train', X_train_tfidf_torch, y_train_torch, clf_tfidf),\n",
        "    ('test ', X_test_tfidf_torch, y_test_torch, clf_tfidf)\n",
        "]:\n",
        "    proba = model.predict_proba(X)[:, 1]\n",
        "    auc = roc_auc_score(y, proba)\n",
        "    plt.plot(*roc_curve(y, proba)[:2], label='%s AUC=%.4f' % (name, auc))\n",
        "\n",
        "plt.plot([0, 1], [0, 1], '--', color='black',)\n",
        "plt.legend(fontsize='large')\n",
        "plt.title(\"Naive Bayes + tfidf\")\n",
        "plt.grid()"
      ],
      "metadata": {
        "colab": {
          "base_uri": "https://localhost:8080/",
          "height": 281
        },
        "id": "WzVRPHsN9Ghk",
        "outputId": "9b881817-a042-4d7e-80d5-8a7c3c50131f"
      },
      "execution_count": 58,
      "outputs": [
        {
          "output_type": "display_data",
          "data": {
            "text/plain": [
              "<Figure size 432x288 with 1 Axes>"
            ],
            "image/png": "[encoded data removed]"
          },
          "metadata": {
            "needs_background": "light"
          }
        }
      ]
    },
    {
      "cell_type": "markdown",
      "metadata": {
        "id": "lA8N6vP1Cj5O"
      },
      "source": [
        "Shape some thoughts on the results you aquired. Which model has show the best performance? Did changing the learning rate/lr scheduler help?"
      ]
    },
    {
      "cell_type": "markdown",
      "metadata": {
        "id": "Xgd3a1DpCj5O"
      },
      "source": [
        "_Your beautiful thoughts here_"
      ]
    },
    {
      "cell_type": "markdown",
      "source": [
        "Результаты Naive Bayes с алгоритмом BOW (AUC=0.8543) показали результат лучше на 2 процента на тестовой выборке, чем результаты Naive Bayes с алгоритмом TF-iDF(AUC=0.8344). Возможноо имеет место переобучение.\n",
        "\n",
        "Результаты Logistic Regression с алгоритмом TF-iDF(AUC=0.8528) показали результат лучше на 1 процент на тестовой выборке, чем результаты Logistic Regression с алгоритмом BOW (AUC=0.8417). \n",
        "\n",
        "Результаты Logistic Regression и Naive Bayes отличаются не значительно\n"
      ],
      "metadata": {
        "id": "SpCq83Zz6eM3"
      }
    },
    {
      "cell_type": "markdown",
      "metadata": {
        "id": "t2tL_LU5Cj5P"
      },
      "source": [
        "### Step 4: Using the external knowledge.\n",
        "\n",
        "Use the `gensim` word2vec pretrained model to translate words into vectors. Use several models with this new encoding technique. Compare the results, share your thoughts."
      ]
    },
    {
      "cell_type": "code",
      "execution_count": null,
      "metadata": {
        "id": "-ONryNd6Cj5Q"
      },
      "outputs": [],
      "source": [
        "# Your beautiful code here"
      ]
    },
    {
      "cell_type": "code",
      "source": [
        "#twitter\n",
        "from gensim.models import Word2Vec\n",
        "import gensim.downloader as api\n",
        "\n",
        "model = api.load(\"glove-twitter-100\")"
      ],
      "metadata": {
        "colab": {
          "base_uri": "https://localhost:8080/"
        },
        "id": "2p-VJcgOKKZA",
        "outputId": "786fe5d5-ba43-4e2c-d395-3b143f19a27e"
      },
      "execution_count": 59,
      "outputs": [
        {
          "output_type": "stream",
          "name": "stdout",
          "text": [
            "[==================================================] 100.0% 387.1/387.1MB downloaded\n"
          ]
        }
      ]
    },
    {
      "cell_type": "code",
      "source": [
        "def to_vectors(model, texts):\n",
        "  vectors = []\n",
        "  for text in texts:\n",
        "    vector = []\n",
        "    for word in text.split():\n",
        "      try:\n",
        "        c = model.get_vector(word)\n",
        "      except KeyError:\n",
        "        c = np.zeros((100,), dtype='float32')\n",
        "      vector.append(c)\n",
        "    vectors.append(np.mean(vector, axis= 0))\n",
        "  return vectors"
      ],
      "metadata": {
        "id": "CC1o3s8Rew8P"
      },
      "execution_count": 60,
      "outputs": []
    },
    {
      "cell_type": "code",
      "source": [
        "train_vectors = to_vectors(model, texts_train)\n",
        "test_vectors = to_vectors(model, texts_test)"
      ],
      "metadata": {
        "id": "J52r1gxTjVX9"
      },
      "execution_count": 61,
      "outputs": []
    },
    {
      "cell_type": "code",
      "source": [
        "X_train_w2v_torch = torch.tensor(train_vectors, device=device)### YOUR CODE HERE\n",
        "X_test_w2v_torch = torch.tensor(test_vectors, device=device)### YOUR CODE HERE"
      ],
      "metadata": {
        "id": "mbSMX21OkXXg",
        "colab": {
          "base_uri": "https://localhost:8080/"
        },
        "outputId": "d125c514-2dcd-4045-be02-6fa152599a8d"
      },
      "execution_count": 62,
      "outputs": [
        {
          "output_type": "stream",
          "name": "stderr",
          "text": [
            "/usr/local/lib/python3.7/dist-packages/ipykernel_launcher.py:1: UserWarning: Creating a tensor from a list of numpy.ndarrays is extremely slow. Please consider converting the list to a single numpy.ndarray with numpy.array() before converting to a tensor. (Triggered internally at  ../torch/csrc/utils/tensor_new.cpp:201.)\n",
            "  \"\"\"Entry point for launching an IPython kernel.\n"
          ]
        }
      ]
    },
    {
      "cell_type": "code",
      "source": [
        "from sklearn.linear_model import LogisticRegression\n",
        "w2v_model = LogisticRegression().fit(X_train_w2v_torch, y_train_torch)"
      ],
      "metadata": {
        "id": "wY4ZGzehoR0t"
      },
      "execution_count": 63,
      "outputs": []
    },
    {
      "cell_type": "code",
      "source": [
        "from sklearn.metrics import roc_auc_score, roc_curve\n",
        "\n",
        "for name, X, y, model in [\n",
        "    ('train', X_train_w2v_torch, y_train_torch, w2v_model),\n",
        "    ('test ', X_test_w2v_torch, y_test_torch, w2v_model)\n",
        "]:\n",
        "    proba = model.predict_proba(X)[:, 1]\n",
        "    auc = roc_auc_score(y, proba)\n",
        "    plt.plot(*roc_curve(y, proba)[:2], label='%s AUC=%.4f' % (name, auc))\n",
        "\n",
        "plt.plot([0, 1], [0, 1], '--', color='black',)\n",
        "plt.legend(fontsize='large')\n",
        "plt.title(\"LogisticRegression + word2vec + twitter\")\n",
        "plt.grid()"
      ],
      "metadata": {
        "colab": {
          "base_uri": "https://localhost:8080/",
          "height": 281
        },
        "id": "AX8ANi2Vobw4",
        "outputId": "bd566466-8a33-4af7-e9c0-84a9c1821716"
      },
      "execution_count": 64,
      "outputs": [
        {
          "output_type": "display_data",
          "data": {
            "text/plain": [
              "<Figure size 432x288 with 1 Axes>"
            ],
            "image/png": "[encoded data removed]"
          },
          "metadata": {
            "needs_background": "light"
          }
        }
      ]
    },
    {
      "cell_type": "code",
      "source": [
        "#wiki\n",
        "from gensim.models import Word2Vec\n",
        "import gensim.downloader as api\n",
        "\n",
        "model = api.load(\"glove-wiki-gigaword-100\")"
      ],
      "metadata": {
        "id": "sSSf83HYf5k3",
        "colab": {
          "base_uri": "https://localhost:8080/"
        },
        "outputId": "70fbb171-8cf4-4c20-9bbe-95c1e502e078"
      },
      "execution_count": 65,
      "outputs": [
        {
          "output_type": "stream",
          "name": "stdout",
          "text": [
            "[==================================================] 100.0% 128.1/128.1MB downloaded\n"
          ]
        }
      ]
    },
    {
      "cell_type": "code",
      "source": [
        "train_vectors = to_vectors(model, texts_train)\n",
        "test_vectors = to_vectors(model, texts_test)"
      ],
      "metadata": {
        "id": "XvUwYgXWv5A9"
      },
      "execution_count": 66,
      "outputs": []
    },
    {
      "cell_type": "code",
      "source": [
        "X_train_w2v_torch = torch.tensor(train_vectors, device=device)### YOUR CODE HERE\n",
        "X_test_w2v_torch = torch.tensor(test_vectors, device=device)### YOUR CODE HERE"
      ],
      "metadata": {
        "id": "cmkTcEgcv48n"
      },
      "execution_count": 67,
      "outputs": []
    },
    {
      "cell_type": "code",
      "source": [
        "from sklearn.linear_model import LogisticRegression\n",
        "w2v_model = LogisticRegression().fit(X_train_w2v_torch, y_train_torch)"
      ],
      "metadata": {
        "id": "UYRnERcOgFqu"
      },
      "execution_count": 68,
      "outputs": []
    },
    {
      "cell_type": "code",
      "source": [
        "from sklearn.metrics import roc_auc_score, roc_curve\n",
        "\n",
        "for name, X, y, model in [\n",
        "    ('train', X_train_w2v_torch, y_train_torch, w2v_model),\n",
        "    ('test ', X_test_w2v_torch, y_test_torch, w2v_model)\n",
        "]:\n",
        "    proba = model.predict_proba(X)[:, 1]\n",
        "    auc = roc_auc_score(y, proba)\n",
        "    plt.plot(*roc_curve(y, proba)[:2], label='%s AUC=%.4f' % (name, auc))\n",
        "\n",
        "plt.plot([0, 1], [0, 1], '--', color='black',)\n",
        "plt.legend(fontsize='large')\n",
        "plt.title(\"LogisticRegression + word2vec + wiki\")\n",
        "plt.grid()"
      ],
      "metadata": {
        "colab": {
          "base_uri": "https://localhost:8080/",
          "height": 281
        },
        "id": "xHJqKhlkv43K",
        "outputId": "3131e8b9-2912-4a82-bda2-5350ad06b799"
      },
      "execution_count": 69,
      "outputs": [
        {
          "output_type": "display_data",
          "data": {
            "text/plain": [
              "<Figure size 432x288 with 1 Axes>"
            ],
            "image/png": "[encoded data removed]"
          },
          "metadata": {
            "needs_background": "light"
          }
        }
      ]
    },
    {
      "cell_type": "markdown",
      "source": [
        "Применение предобученного word2vec + Logistic Regression(AUC=0.9148) показало результат лучше, чем TF-iDF + Logistic Regression(AUC=0.8528) и BOW + Logistic Regression(AUC=0.8417).\n",
        "\n",
        "Результаты предобученной модели glove-twitter-100 (AUC=0.9148) оказались лучше, чем glove-wiki-gigaword-100 (AUC=0.9101). Причиной этого может быть схожесть данных исходной задачи и модели  glove-twitter-100 (соцсеть), в отличии от glove-wiki-gigaword-100 (интернет - энциклопедия)"
      ],
      "metadata": {
        "id": "SSnu1pnf9Br3"
      }
    },
    {
      "cell_type": "code",
      "source": [
        ""
      ],
      "metadata": {
        "id": "lDLgHREj9BTu"
      },
      "execution_count": null,
      "outputs": []
    }
  ],
  "metadata": {
    "kernelspec": {
      "display_name": "Python 3",
      "language": "python",
      "name": "python3"
    },
    "language_info": {
      "codemirror_mode": {
        "name": "ipython",
        "version": 3
      },
      "file_extension": ".py",
      "mimetype": "text/x-python",
      "name": "python",
      "nbconvert_exporter": "python",
      "pygments_lexer": "ipython3",
      "version": "3.6.9"
    },
    "colab": {
      "name": "assignment1_01_Word_Vectors.ipynb",
      "provenance": [],
      "collapsed_sections": []
    },
    "accelerator": "TPU"
  },
  "nbformat": 4,
  "nbformat_minor": 0
}